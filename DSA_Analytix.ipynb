{
 "cells": [
  {
   "cell_type": "markdown",
   "id": "9dcd3205",
   "metadata": {},
   "source": [
    "# Pendahuluan\n",
    "Notebook ini berisi analisis data terhadap banjir Jakarta dan nasional sebagai salah satu syarat untuk seleksi Data Science Academy Compfest 15 (2023)\n",
    "\n",
    "## Identitas tim\n",
    "Nama tim : Analystix\n",
    "\n",
    "Anggota tim : \n",
    "1. Rayssa Ravelia\n",
    "2. Wan Sabrina Mayzura\n",
    "3. Dian Lies Dabukke"
   ]
  },
  {
   "cell_type": "code",
   "execution_count": 1,
   "id": "4468c62d",
   "metadata": {},
   "outputs": [],
   "source": [
    "import pandas as pd"
   ]
  },
  {
   "cell_type": "code",
   "execution_count": 5,
   "id": "46ff1690",
   "metadata": {},
   "outputs": [],
   "source": [
    "import os"
   ]
  },
  {
   "cell_type": "code",
   "execution_count": 6,
   "id": "08f50a1c",
   "metadata": {},
   "outputs": [],
   "source": [
    "# list all files in the directory"
   ]
  },
  {
   "cell_type": "code",
   "execution_count": 18,
   "id": "b6d54a95",
   "metadata": {},
   "outputs": [],
   "source": [
    "directory = os.path.expanduser(\"~/Downloads/\")"
   ]
  },
  {
   "cell_type": "code",
   "execution_count": 19,
   "id": "b42bab25",
   "metadata": {},
   "outputs": [],
   "source": [
    "files = os.listdir(directory)"
   ]
  },
  {
   "cell_type": "code",
   "execution_count": 20,
   "id": "58e6486a",
   "metadata": {},
   "outputs": [],
   "source": [
    "# Filter and import CSV files from 2023 to 2020"
   ]
  },
  {
   "cell_type": "code",
   "execution_count": 23,
   "id": "7504ca79",
   "metadata": {},
   "outputs": [],
   "source": [
    "dataframes = []\n",
    "csv_files = []\n",
    "for file in files:\n",
    "    if file.endswith(\".csv\") and \"tahun\" in file:\n",
    "        year = file.split(\"tahun-\")[1].split(\".csv\")[0]\n",
    "        if year.isdigit() and int(year) <= 2020 and int(year) >= 2013:\n",
    "            file_path = os.path.join(directory, file)\n",
    "            df = pd.read_csv(file_path)\n",
    "            dataframes.append(df)\n",
    "            csv_files.append(file)"
   ]
  },
  {
   "cell_type": "code",
   "execution_count": 24,
   "id": "98471c2e",
   "metadata": {},
   "outputs": [
    {
     "name": "stdout",
     "output_type": "stream",
     "text": [
      "data-rekapitulasi-kejadian-banjir-tahun-2016.csv\n",
      "data-rekapitulasi-kejadian-banjir-tahun-2015.csv\n",
      "data-rekapitulasi-kejadian-banjir-tahun-2019.csv\n",
      "data-rekapitulasi-kejadian-banjir-tahun-2013.csv\n",
      "data-rekapitulasi-kejadian-banjir-tahun-2020.csv\n",
      "data-rekapitulasi-kejadian-banjir-tahun-2018.csv\n",
      "data-rekapitulasi-kejadian-banjir-tahun-2014.csv\n",
      "data-rekapitulasi-kejadian-banjir-tahun-2017.csv\n"
     ]
    }
   ],
   "source": [
    "for file in csv_files:\n",
    "    print(file)"
   ]
  },
  {
   "cell_type": "code",
   "execution_count": null,
   "id": "f2a20f60",
   "metadata": {},
   "outputs": [],
   "source": []
  }
 ],
 "metadata": {
  "kernelspec": {
   "display_name": "Python 3 (ipykernel)",
   "language": "python",
   "name": "python3"
  },
  "language_info": {
   "codemirror_mode": {
    "name": "ipython",
    "version": 3
   },
   "file_extension": ".py",
   "mimetype": "text/x-python",
   "name": "python",
   "nbconvert_exporter": "python",
   "pygments_lexer": "ipython3",
   "version": "3.10.9"
  }
 },
 "nbformat": 4,
 "nbformat_minor": 5
}
