{
 "cells": [
  {
   "cell_type": "markdown",
   "id": "9dcd3205",
   "metadata": {},
   "source": [
    "# Pendahuluan\n",
    "Notebook ini berisi analisis data terhadap banjir Jakarta dan nasional sebagai salah satu syarat untuk seleksi Data Science Academy Compfest 15 (2023)\n",
    "\n",
    "## Identitas tim\n",
    "Nama tim : Analystix\n",
    "\n",
    "Anggota tim : \n",
    "1. Rayssa Ravelia\n",
    "2. Wan Sabrina Mayzura\n",
    "3. Dian Lies Dabukke"
   ]
  },
  {
   "cell_type": "code",
   "execution_count": 24,
   "id": "4468c62d",
   "metadata": {},
   "outputs": [],
   "source": [
    "import pandas as pd\n",
    "import os\n",
    "\n",
    "# list all files in the directory\n",
    "directory = os.path.expanduser(\"~/Downloads/\")\n",
    "files = os.listdir(directory)"
   ]
  },
  {
   "cell_type": "code",
   "execution_count": 36,
   "id": "7504ca79",
   "metadata": {},
   "outputs": [],
   "source": [
    "columns_to_keep = ['kecamatan', 'kelurahan', 'rata_rata_ketinggian_air', 'lama_genangan', 'jiwa_terdampak', 'jumlah_jiwa_pengungsi_tertinggi', 'jumlah_tempat_pengungsian']\n",
    "\n",
    "dataframes = []\n",
    "csv_files = []\n",
    "\n",
    "for file in files:\n",
    "    if file.endswith(\".csv\") and \"tahun\" in file:\n",
    "        year = file.split(\"tahun-\")[1].split(\".csv\")[0]\n",
    "        if year.isdigit() and int(year) <= 2020 and int(year) >= 2013:\n",
    "            file_path = os.path.join(directory, file)\n",
    "            df = pd.read_csv(file_path)\n",
    "            \n",
    "            # Menghapus baris dengan 12 atau lebih kolom bernilai 0 atau NULL\n",
    "            df = df.dropna(thresh=12)\n",
    "            df = df[~(df.eq(0).sum(axis=1) >= 12)]\n",
    "            \n",
    "            # Menghapus kolom selain kolom yang diinginkan\n",
    "            df = df[columns_to_keep]\n",
    "            \n",
    "            dataframes.append(df)\n",
    "            csv_files.append(file)\n",
    "            \n",
    "            # Menyimpan hasil ke file CSV baru\n",
    "            new_file_path = os.path.join(directory, \"cleaned_\" + file)\n",
    "            df.to_csv(new_file_path, index=False)"
   ]
  },
  {
   "cell_type": "code",
   "execution_count": 20,
   "id": "98471c2e",
   "metadata": {},
   "outputs": [
    {
     "name": "stdout",
     "output_type": "stream",
     "text": [
      "data-rekapitulasi-kejadian-banjir-tahun-2013.csv\n",
      "data-rekapitulasi-kejadian-banjir-tahun-2014.csv\n",
      "data-rekapitulasi-kejadian-banjir-tahun-2015.csv\n",
      "data-rekapitulasi-kejadian-banjir-tahun-2016.csv\n",
      "data-rekapitulasi-kejadian-banjir-tahun-2017.csv\n",
      "data-rekapitulasi-kejadian-banjir-tahun-2018.csv\n",
      "data-rekapitulasi-kejadian-banjir-tahun-2019.csv\n",
      "data-rekapitulasi-kejadian-banjir-tahun-2020.csv\n"
     ]
    }
   ],
   "source": [
    "for file in csv_files:\n",
    "    print(file)"
   ]
  },
  {
   "cell_type": "code",
   "execution_count": null,
   "id": "9c055c3d",
   "metadata": {},
   "outputs": [],
   "source": []
  }
 ],
 "metadata": {
  "kernelspec": {
   "display_name": "Python 3 (ipykernel)",
   "language": "python",
   "name": "python3"
  },
  "language_info": {
   "codemirror_mode": {
    "name": "ipython",
    "version": 3
   },
   "file_extension": ".py",
   "mimetype": "text/x-python",
   "name": "python",
   "nbconvert_exporter": "python",
   "pygments_lexer": "ipython3",
   "version": "3.10.9"
  }
 },
 "nbformat": 4,
 "nbformat_minor": 5
}
